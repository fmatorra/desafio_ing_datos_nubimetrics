{
 "cells": [
  {
   "cell_type": "markdown",
   "metadata": {},
   "source": [
    "# Desafio 3\n",
    "# =========\n",
    "* Deserializar un JSON"
   ]
  },
  {
   "cell_type": "code",
   "execution_count": 1,
   "metadata": {},
   "outputs": [],
   "source": [
    "import os\n",
    "import requests\n",
    "import json\n",
    "import findspark\n",
    "findspark.init()\n",
    "import pyspark\n",
    "from pyspark.sql import SparkSession"
   ]
  },
  {
   "cell_type": "code",
   "execution_count": 2,
   "metadata": {},
   "outputs": [
    {
     "name": "stderr",
     "output_type": "stream",
     "text": [
      "22/01/24 09:14:52 WARN Utils: Your hostname, fede-dsk resolves to a loopback address: 127.0.1.1; using 192.168.1.29 instead (on interface wlxf8d111634ba2)\n",
      "22/01/24 09:14:52 WARN Utils: Set SPARK_LOCAL_IP if you need to bind to another address\n",
      "WARNING: An illegal reflective access operation has occurred\n",
      "WARNING: Illegal reflective access by org.apache.spark.unsafe.Platform (file:/opt/spark-3.2.0/jars/spark-unsafe_2.12-3.2.0.jar) to constructor java.nio.DirectByteBuffer(long,int)\n",
      "WARNING: Please consider reporting this to the maintainers of org.apache.spark.unsafe.Platform\n",
      "WARNING: Use --illegal-access=warn to enable warnings of further illegal reflective access operations\n",
      "WARNING: All illegal access operations will be denied in a future release\n",
      "Using Spark's default log4j profile: org/apache/spark/log4j-defaults.properties\n",
      "Setting default log level to \"WARN\".\n",
      "To adjust logging level use sc.setLogLevel(newLevel). For SparkR, use setLogLevel(newLevel).\n",
      "22/01/24 09:14:53 WARN NativeCodeLoader: Unable to load native-hadoop library for your platform... using builtin-java classes where applicable\n"
     ]
    }
   ],
   "source": [
    "spark = SparkSession.builder.getOrCreate()"
   ]
  },
  {
   "cell_type": "code",
   "execution_count": 4,
   "metadata": {},
   "outputs": [
    {
     "name": "stdout",
     "output_type": "stream",
     "text": [
      "root\n",
      " |-- body: struct (nullable = true)\n",
      " |    |-- address: struct (nullable = true)\n",
      " |    |    |-- city: string (nullable = true)\n",
      " |    |    |-- state: string (nullable = true)\n",
      " |    |-- buyer_reputation: struct (nullable = true)\n",
      " |    |    |-- tags: array (nullable = true)\n",
      " |    |    |    |-- element: string (containsNull = true)\n",
      " |    |-- country_id: string (nullable = true)\n",
      " |    |-- id: long (nullable = true)\n",
      " |    |-- logo: string (nullable = true)\n",
      " |    |-- nickname: string (nullable = true)\n",
      " |    |-- permalink: string (nullable = true)\n",
      " |    |-- points: long (nullable = true)\n",
      " |    |-- registration_date: string (nullable = true)\n",
      " |    |-- seller_reputation: struct (nullable = true)\n",
      " |    |    |-- level_id: string (nullable = true)\n",
      " |    |    |-- power_seller_status: string (nullable = true)\n",
      " |    |    |-- transactions: struct (nullable = true)\n",
      " |    |    |    |-- canceled: long (nullable = true)\n",
      " |    |    |    |-- completed: long (nullable = true)\n",
      " |    |    |    |-- period: string (nullable = true)\n",
      " |    |    |    |-- ratings: struct (nullable = true)\n",
      " |    |    |    |    |-- negative: long (nullable = true)\n",
      " |    |    |    |    |-- neutral: long (nullable = true)\n",
      " |    |    |    |    |-- positive: long (nullable = true)\n",
      " |    |    |    |-- total: long (nullable = true)\n",
      " |    |-- site_id: string (nullable = true)\n",
      " |    |-- status: struct (nullable = true)\n",
      " |    |    |-- site_status: string (nullable = true)\n",
      " |    |-- tags: array (nullable = true)\n",
      " |    |    |-- element: string (containsNull = true)\n",
      " |    |-- user_type: string (nullable = true)\n",
      " |-- code: long (nullable = true)\n",
      "\n"
     ]
    }
   ],
   "source": [
    "# Read JSON file into dataframe\n",
    "df = spark.read.json(\"./input_ejemplos/Sellers.json\")\n",
    "df.printSchema()\n",
    "#df.show()"
   ]
  },
  {
   "cell_type": "code",
   "execution_count": 62,
   "metadata": {},
   "outputs": [
    {
     "name": "stdout",
     "output_type": "stream",
     "text": [
      "+-------+---------+--------------------+------------+\n",
      "|site_id|       id|      sellerNickname|sellerPoints|\n",
      "+-------+---------+--------------------+------------+\n",
      "|    MPE|298734964|      MARIELATAQUIRE|           2|\n",
      "|    MPE|183049329|         MURO8709951|          -3|\n",
      "|    MPE| 94592189|          ILLARYPERU|          -2|\n",
      "|    MPE|520133997|     ISABELLADELPOZO|           1|\n",
      "|    MPE|684964436|         PHMO1747353|           0|\n",
      "|    MPE|685079498|MELISSASUSANAARVA...|           0|\n",
      "|    MPE|646068761|   YOMIDELGADOSNCHEZ|           0|\n",
      "|    MPE|685310649|DONATILDONATILDEC...|           0|\n",
      "|    MPE|685419864|        VANESSAURNER|           0|\n",
      "|    MPE|285674870|    ERICKLOPEZUSMSYA|           2|\n",
      "|    MPE|685275449|DANIELARUIZRIDRIGUES|           0|\n",
      "|    MPE| 48893023|        MARCELASUSAN|           1|\n",
      "|    MPE|603331827|         COVA1031117|           0|\n",
      "|    MPE|205264135|         GOBR7283790|           1|\n",
      "|    MPE|580279940|        LORDVENCEDOR|           0|\n",
      "|    MPE|300834652| DANIELAHILARIORAMOS|           0|\n",
      "|    MPE|270322958|JHONANTHONYCAYLLA...|           0|\n",
      "|    MPE|684554092|OSORIOCOLQUIJESSM...|           0|\n",
      "|    MPE|644166286|         GOEL1504737|           0|\n",
      "|    MPE|685449106|  ISABELSNCHEZMEDINA|           0|\n",
      "+-------+---------+--------------------+------------+\n",
      "\n"
     ]
    }
   ],
   "source": [
    "df_select = df.select(\"body.site_id\", \"body.id\", \"body.nickname\", 'body.points')\n",
    "df_select = df_select \\\n",
    "            .withColumnRenamed(\"body.site_id\",\"siteId\") \\\n",
    "            .withColumnRenamed(\"body.id\",\"sellerId\") \\\n",
    "            .withColumnRenamed(\"nickname\",\"sellerNickname\") \\\n",
    "            .withColumnRenamed(\"points\",\"sellerPoints\")\n",
    "df_select.show()"
   ]
  },
  {
   "cell_type": "markdown",
   "metadata": {},
   "source": [
    "## Saving CSV"
   ]
  },
  {
   "cell_type": "code",
   "execution_count": 66,
   "metadata": {},
   "outputs": [],
   "source": [
    "positivo = df_select.filter(df_select.sellerPoints > 0)\n",
    "cero = df_select.filter(df_select.sellerPoints == 0)\n",
    "negativo = df_select.filter(df_select.sellerPoints < 0)\n",
    "\n",
    "csvs = ['positivo', 'cero', 'negativo']\n",
    "# Creo csv con 1 partición\n",
    "for csv in csvs:\n",
    "    eval(csv) \\\n",
    "    .repartition(1) \\\n",
    "    .write.format(\"com.databricks.spark.csv\") \\\n",
    "    .option(\"header\", \"true\") \\\n",
    "    .save(f'MPE/2022/01/24/{csv}/data.csv')"
   ]
  },
  {
   "cell_type": "markdown",
   "metadata": {},
   "source": [
    "## Using Schema"
   ]
  },
  {
   "cell_type": "code",
   "execution_count": 20,
   "metadata": {},
   "outputs": [
    {
     "data": {
      "text/plain": [
       "[StructField(body,StructType(List(StructField(address,StructType(List(StructField(city,StringType,true),StructField(state,StringType,true))),true),StructField(buyer_reputation,StructType(List(StructField(tags,ArrayType(StringType,true),true))),true),StructField(country_id,StringType,true),StructField(id,LongType,true),StructField(logo,StringType,true),StructField(nickname,StringType,true),StructField(permalink,StringType,true),StructField(points,LongType,true),StructField(registration_date,StringType,true),StructField(seller_reputation,StructType(List(StructField(level_id,StringType,true),StructField(power_seller_status,StringType,true),StructField(transactions,StructType(List(StructField(canceled,LongType,true),StructField(completed,LongType,true),StructField(period,StringType,true),StructField(ratings,StructType(List(StructField(negative,LongType,true),StructField(neutral,LongType,true),StructField(positive,LongType,true))),true),StructField(total,LongType,true))),true))),true),StructField(site_id,StringType,true),StructField(status,StructType(List(StructField(site_status,StringType,true))),true),StructField(tags,ArrayType(StringType,true),true),StructField(user_type,StringType,true))),true),\n",
       " StructField(code,LongType,true)]"
      ]
     },
     "execution_count": 20,
     "metadata": {},
     "output_type": "execute_result"
    }
   ],
   "source": [
    "# display dataframe columns\n",
    "df.schema.fields"
   ]
  },
  {
   "cell_type": "code",
   "execution_count": 49,
   "metadata": {},
   "outputs": [],
   "source": [
    "from pyspark.sql.types import *\n",
    "\n",
    "structureSchema = StructType([\n",
    "        StructField('body', StructType([\n",
    "                StructField(\"site_id\",StringType(),True),\n",
    "                StructField(\"id\",IntegerType(),True),\n",
    "                StructField(\"nickname\",StringType(),True),\n",
    "                StructField(\"points\",LongType(),True)\n",
    "             ]))\n",
    "         ])"
   ]
  },
  {
   "cell_type": "code",
   "execution_count": 51,
   "metadata": {},
   "outputs": [
    {
     "name": "stdout",
     "output_type": "stream",
     "text": [
      "root\n",
      " |-- body: struct (nullable = true)\n",
      " |    |-- site_id: string (nullable = true)\n",
      " |    |-- id: integer (nullable = true)\n",
      " |    |-- nickname: string (nullable = true)\n",
      " |    |-- points: long (nullable = true)\n",
      "\n"
     ]
    }
   ],
   "source": [
    "df_with_schema = spark.read.schema(structureSchema) \\\n",
    "        .json(\"./input_ejemplos/Sellers.json\")\n",
    "df_with_schema.printSchema()"
   ]
  },
  {
   "cell_type": "code",
   "execution_count": 53,
   "metadata": {},
   "outputs": [
    {
     "name": "stdout",
     "output_type": "stream",
     "text": [
      "+-------+---------+--------------------+------+\n",
      "|site_id|       id|            nickname|points|\n",
      "+-------+---------+--------------------+------+\n",
      "|    MPE|298734964|      MARIELATAQUIRE|     2|\n",
      "|    MPE|183049329|         MURO8709951|    -3|\n",
      "|    MPE| 94592189|          ILLARYPERU|    -2|\n",
      "|    MPE|520133997|     ISABELLADELPOZO|     1|\n",
      "|    MPE|684964436|         PHMO1747353|     0|\n",
      "|    MPE|685079498|MELISSASUSANAARVA...|     0|\n",
      "|    MPE|646068761|   YOMIDELGADOSNCHEZ|     0|\n",
      "|    MPE|685310649|DONATILDONATILDEC...|     0|\n",
      "|    MPE|685419864|        VANESSAURNER|     0|\n",
      "|    MPE|285674870|    ERICKLOPEZUSMSYA|     2|\n",
      "|    MPE|685275449|DANIELARUIZRIDRIGUES|     0|\n",
      "|    MPE| 48893023|        MARCELASUSAN|     1|\n",
      "|    MPE|603331827|         COVA1031117|     0|\n",
      "|    MPE|205264135|         GOBR7283790|     1|\n",
      "|    MPE|580279940|        LORDVENCEDOR|     0|\n",
      "|    MPE|300834652| DANIELAHILARIORAMOS|     0|\n",
      "|    MPE|270322958|JHONANTHONYCAYLLA...|     0|\n",
      "|    MPE|684554092|OSORIOCOLQUIJESSM...|     0|\n",
      "|    MPE|644166286|         GOEL1504737|     0|\n",
      "|    MPE|685449106|  ISABELSNCHEZMEDINA|     0|\n",
      "+-------+---------+--------------------+------+\n",
      "\n"
     ]
    }
   ],
   "source": [
    "df_with_schema.select(\"body.site_id\", \"body.id\", \"body.nickname\", 'body.points').show()"
   ]
  }
 ],
 "metadata": {
  "interpreter": {
   "hash": "94f1fa88e1690a457694891f9a6c3d91e8b9a911913ff0b402f7f1506fba3fd0"
  },
  "kernelspec": {
   "display_name": "Python 3.8.12 64-bit ('spark_ml': conda)",
   "language": "python",
   "name": "python3"
  },
  "language_info": {
   "codemirror_mode": {
    "name": "ipython",
    "version": 3
   },
   "file_extension": ".py",
   "mimetype": "text/x-python",
   "name": "python",
   "nbconvert_exporter": "python",
   "pygments_lexer": "ipython3",
   "version": "3.8.12"
  },
  "orig_nbformat": 4
 },
 "nbformat": 4,
 "nbformat_minor": 2
}
