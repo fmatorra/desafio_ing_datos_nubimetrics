{
 "cells": [
  {
   "cell_type": "markdown",
   "metadata": {},
   "source": [
    "# Desafio 8\n",
    "# =========\n",
    "\n",
    "* Paths 1"
   ]
  },
  {
   "cell_type": "code",
   "execution_count": 62,
   "metadata": {},
   "outputs": [],
   "source": [
    "def generateMonthlyPathList(url, year, month, day):\n",
    "    \n",
    "    urls=[]\n",
    "    \n",
    "    yy=int(year)\n",
    "    mm=int(month)\n",
    "    dd=int(day)\n",
    "    \n",
    "    if(mm==1 or mm==3 or mm==5 or mm==7 or mm==8 or mm==10 or mm==12):\n",
    "        max1=31\n",
    "    elif(mm==4 or mm==6 or mm==9 or mm==11):\n",
    "        max1=30\n",
    "    elif(yy%4==0 and yy%100!=0 or yy%400==0):\n",
    "        max1=29\n",
    "    else:\n",
    "        max1=28\n",
    "\n",
    "    if(mm<1 or mm>12):\n",
    "        #print(\"Date is invalid.\")\n",
    "        return \"Date is invalid.\"\n",
    "    elif(dd<1 or dd>max1):\n",
    "        #print(\"Date is invalid.\")\n",
    "        return \"Date is invalid.\"\n",
    "\n",
    "    for i in range(dd):\n",
    "        #print(i+1)\n",
    "        year = year\n",
    "        month = mm\n",
    "        day_ = i+1    \n",
    "        urls.append(f'{url}/{year}/{month:02d}/{day_:02d}/')\n",
    "    \n",
    "    return(urls)"
   ]
  },
  {
   "cell_type": "code",
   "execution_count": 63,
   "metadata": {},
   "outputs": [
    {
     "name": "stdout",
     "output_type": "stream",
     "text": [
      "https://importantdata@location/2021/02/01/\n",
      "https://importantdata@location/2021/02/02/\n",
      "https://importantdata@location/2021/02/03/\n",
      "https://importantdata@location/2021/02/04/\n",
      "https://importantdata@location/2021/02/05/\n",
      "https://importantdata@location/2021/02/06/\n",
      "https://importantdata@location/2021/02/07/\n",
      "https://importantdata@location/2021/02/08/\n",
      "https://importantdata@location/2021/02/09/\n",
      "https://importantdata@location/2021/02/10/\n",
      "https://importantdata@location/2021/02/11/\n",
      "https://importantdata@location/2021/02/12/\n",
      "https://importantdata@location/2021/02/13/\n",
      "https://importantdata@location/2021/02/14/\n",
      "https://importantdata@location/2021/02/15/\n",
      "https://importantdata@location/2021/02/16/\n",
      "https://importantdata@location/2021/02/17/\n",
      "https://importantdata@location/2021/02/18/\n",
      "https://importantdata@location/2021/02/19/\n",
      "https://importantdata@location/2021/02/20/\n",
      "https://importantdata@location/2021/02/21/\n",
      "https://importantdata@location/2021/02/22/\n",
      "https://importantdata@location/2021/02/23/\n",
      "https://importantdata@location/2021/02/24/\n",
      "https://importantdata@location/2021/02/25/\n",
      "https://importantdata@location/2021/02/26/\n",
      "https://importantdata@location/2021/02/27/\n",
      "https://importantdata@location/2021/02/28/\n"
     ]
    }
   ],
   "source": [
    "url = 'https://importantdata@location'\n",
    "urls = generateMonthlyPathList(url, \"2021\", \"02\", \"28\")\n",
    "for web in urls:\n",
    "    print(web)"
   ]
  },
  {
   "cell_type": "markdown",
   "metadata": {},
   "source": [
    "# Desafio 9\n",
    "# =========\n",
    "\n",
    "* Paths 2"
   ]
  },
  {
   "cell_type": "code",
   "execution_count": 2,
   "metadata": {},
   "outputs": [],
   "source": [
    "def generateLastDaysPaths(url, date, days):\n",
    "    urls=[]\n",
    "    \n",
    "    if len(date) != 8:\n",
    "        return f'Date has {len(date)} characters and must be 8.'\n",
    "\n",
    "    yy,mm,dd=date[:4], date[4:6], date[6:8] \n",
    "    \n",
    "    yy=int(yy)\n",
    "    mm=int(mm)\n",
    "    dd=int(dd)\n",
    "    \n",
    "    if(mm==1 or mm==3 or mm==5 or mm==7 or mm==8 or mm==10 or mm==12):\n",
    "        max1=31\n",
    "    elif(mm==4 or mm==6 or mm==9 or mm==11):\n",
    "        max1=30\n",
    "    elif(yy%4==0 and yy%100!=0 or yy%400==0):\n",
    "        max1=29\n",
    "    else:\n",
    "        max1=28\n",
    "\n",
    "    if(mm<1 or mm>12):\n",
    "        #print(\"Date is invalid.\")\n",
    "        return \"Date is invalid.\"\n",
    "    elif(dd<1 or dd>max1):\n",
    "        #print(\"Date is invalid.\")\n",
    "        return \"Date is invalid.\"\n",
    "\n",
    "    for i in range(days):\n",
    "        #print(i+1)\n",
    "        year = yy\n",
    "        month = mm\n",
    "        day_ = i+1    \n",
    "        urls.append(f'{url}/{year}/{month:02d}/{day_:02d}/')\n",
    "    \n",
    "    return(urls)"
   ]
  },
  {
   "cell_type": "code",
   "execution_count": 67,
   "metadata": {},
   "outputs": [
    {
     "name": "stdout",
     "output_type": "stream",
     "text": [
      "https://importantdata@location/2021/04/01/\n",
      "https://importantdata@location/2021/04/02/\n",
      "https://importantdata@location/2021/04/03/\n",
      "https://importantdata@location/2021/04/04/\n",
      "https://importantdata@location/2021/04/05/\n",
      "https://importantdata@location/2021/04/06/\n",
      "https://importantdata@location/2021/04/07/\n",
      "https://importantdata@location/2021/04/08/\n",
      "https://importantdata@location/2021/04/09/\n",
      "https://importantdata@location/2021/04/10/\n"
     ]
    }
   ],
   "source": [
    "url = 'https://importantdata@location'\n",
    "urls = generateLastDaysPaths(url, \"20210410\", 10)\n",
    "for web in urls:\n",
    "    print(web)"
   ]
  },
  {
   "cell_type": "code",
   "execution_count": 4,
   "metadata": {},
   "outputs": [
    {
     "name": "stdout",
     "output_type": "stream",
     "text": [
      "Date has 7 characters and must be 8.\n"
     ]
    }
   ],
   "source": [
    "url = 'https://importantdata@location'\n",
    "urls = generateLastDaysPaths(url, \"2021041\", 10)\n",
    "print(urls)"
   ]
  }
 ],
 "metadata": {
  "interpreter": {
   "hash": "31f2aee4e71d21fbe5cf8b01ff0e069b9275f58929596ceb00d14d90e3e16cd6"
  },
  "kernelspec": {
   "display_name": "Python 3.8.10 64-bit",
   "language": "python",
   "name": "python3"
  },
  "language_info": {
   "codemirror_mode": {
    "name": "ipython",
    "version": 3
   },
   "file_extension": ".py",
   "mimetype": "text/x-python",
   "name": "python",
   "nbconvert_exporter": "python",
   "pygments_lexer": "ipython3",
   "version": "3.8.10"
  },
  "orig_nbformat": 4
 },
 "nbformat": 4,
 "nbformat_minor": 2
}
