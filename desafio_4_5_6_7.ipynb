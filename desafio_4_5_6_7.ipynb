{
 "cells": [
  {
   "cell_type": "markdown",
   "metadata": {},
   "source": [
    "# Desafio 4\n",
    "# =========\n",
    "* Parseo de un Array de Structs en un dataframe"
   ]
  },
  {
   "cell_type": "code",
   "execution_count": 45,
   "metadata": {},
   "outputs": [],
   "source": [
    "import os\n",
    "import requests\n",
    "import json\n",
    "import warnings\n",
    "warnings.filterwarnings('ignore')\n",
    "\n",
    "import findspark\n",
    "findspark.init()\n",
    "import pyspark\n",
    "from pyspark.sql import SparkSession"
   ]
  },
  {
   "cell_type": "code",
   "execution_count": 46,
   "metadata": {},
   "outputs": [],
   "source": [
    "spark = SparkSession.builder.getOrCreate()"
   ]
  },
  {
   "cell_type": "code",
   "execution_count": 47,
   "metadata": {},
   "outputs": [
    {
     "name": "stdout",
     "output_type": "stream",
     "text": [
      "root\n",
      " |-- available_filters: array (nullable = true)\n",
      " |    |-- element: struct (containsNull = true)\n",
      " |    |    |-- id: string (nullable = true)\n",
      " |    |    |-- name: string (nullable = true)\n",
      " |    |    |-- type: string (nullable = true)\n",
      " |    |    |-- values: array (nullable = true)\n",
      " |    |    |    |-- element: struct (containsNull = true)\n",
      " |    |    |    |    |-- id: string (nullable = true)\n",
      " |    |    |    |    |-- name: string (nullable = true)\n",
      " |    |    |    |    |-- results: long (nullable = true)\n",
      " |-- available_sorts: array (nullable = true)\n",
      " |    |-- element: struct (containsNull = true)\n",
      " |    |    |-- id: string (nullable = true)\n",
      " |    |    |-- name: string (nullable = true)\n",
      " |-- filters: array (nullable = true)\n",
      " |    |-- element: struct (containsNull = true)\n",
      " |    |    |-- id: string (nullable = true)\n",
      " |    |    |-- name: string (nullable = true)\n",
      " |    |    |-- type: string (nullable = true)\n",
      " |    |    |-- values: array (nullable = true)\n",
      " |    |    |    |-- element: struct (containsNull = true)\n",
      " |    |    |    |    |-- id: string (nullable = true)\n",
      " |    |    |    |    |-- name: string (nullable = true)\n",
      " |    |    |    |    |-- path_from_root: array (nullable = true)\n",
      " |    |    |    |    |    |-- element: struct (containsNull = true)\n",
      " |    |    |    |    |    |    |-- id: string (nullable = true)\n",
      " |    |    |    |    |    |    |-- name: string (nullable = true)\n",
      " |-- paging: struct (nullable = true)\n",
      " |    |-- limit: long (nullable = true)\n",
      " |    |-- offset: long (nullable = true)\n",
      " |    |-- primary_results: long (nullable = true)\n",
      " |    |-- total: long (nullable = true)\n",
      " |-- related_results: array (nullable = true)\n",
      " |    |-- element: string (containsNull = true)\n",
      " |-- results: array (nullable = true)\n",
      " |    |-- element: struct (containsNull = true)\n",
      " |    |    |-- accepts_mercadopago: boolean (nullable = true)\n",
      " |    |    |-- address: struct (nullable = true)\n",
      " |    |    |    |-- city_id: string (nullable = true)\n",
      " |    |    |    |-- city_name: string (nullable = true)\n",
      " |    |    |    |-- state_id: string (nullable = true)\n",
      " |    |    |    |-- state_name: string (nullable = true)\n",
      " |    |    |-- attributes: array (nullable = true)\n",
      " |    |    |    |-- element: struct (containsNull = true)\n",
      " |    |    |    |    |-- attribute_group_id: string (nullable = true)\n",
      " |    |    |    |    |-- attribute_group_name: string (nullable = true)\n",
      " |    |    |    |    |-- id: string (nullable = true)\n",
      " |    |    |    |    |-- name: string (nullable = true)\n",
      " |    |    |    |    |-- source: long (nullable = true)\n",
      " |    |    |    |    |-- value_id: string (nullable = true)\n",
      " |    |    |    |    |-- value_name: string (nullable = true)\n",
      " |    |    |    |    |-- value_struct: string (nullable = true)\n",
      " |    |    |    |    |-- values: array (nullable = true)\n",
      " |    |    |    |    |    |-- element: struct (containsNull = true)\n",
      " |    |    |    |    |    |    |-- id: string (nullable = true)\n",
      " |    |    |    |    |    |    |-- name: string (nullable = true)\n",
      " |    |    |    |    |    |    |-- source: long (nullable = true)\n",
      " |    |    |    |    |    |    |-- struct: string (nullable = true)\n",
      " |    |    |-- available_quantity: long (nullable = true)\n",
      " |    |    |-- buying_mode: string (nullable = true)\n",
      " |    |    |-- catalog_product_id: string (nullable = true)\n",
      " |    |    |-- category_id: string (nullable = true)\n",
      " |    |    |-- condition: string (nullable = true)\n",
      " |    |    |-- currency_id: string (nullable = true)\n",
      " |    |    |-- domain_id: string (nullable = true)\n",
      " |    |    |-- id: string (nullable = true)\n",
      " |    |    |-- installments: struct (nullable = true)\n",
      " |    |    |    |-- amount: double (nullable = true)\n",
      " |    |    |    |-- currency_id: string (nullable = true)\n",
      " |    |    |    |-- quantity: long (nullable = true)\n",
      " |    |    |    |-- rate: long (nullable = true)\n",
      " |    |    |-- listing_type_id: string (nullable = true)\n",
      " |    |    |-- official_store_id: long (nullable = true)\n",
      " |    |    |-- original_price: long (nullable = true)\n",
      " |    |    |-- permalink: string (nullable = true)\n",
      " |    |    |-- price: double (nullable = true)\n",
      " |    |    |-- seller: struct (nullable = true)\n",
      " |    |    |    |-- car_dealer: boolean (nullable = true)\n",
      " |    |    |    |-- id: long (nullable = true)\n",
      " |    |    |    |-- permalink: string (nullable = true)\n",
      " |    |    |    |-- real_estate_agency: boolean (nullable = true)\n",
      " |    |    |    |-- registration_date: string (nullable = true)\n",
      " |    |    |    |-- tags: string (nullable = true)\n",
      " |    |    |-- seller_address: struct (nullable = true)\n",
      " |    |    |    |-- address_line: string (nullable = true)\n",
      " |    |    |    |-- city: struct (nullable = true)\n",
      " |    |    |    |    |-- id: string (nullable = true)\n",
      " |    |    |    |    |-- name: string (nullable = true)\n",
      " |    |    |    |-- comment: string (nullable = true)\n",
      " |    |    |    |-- country: struct (nullable = true)\n",
      " |    |    |    |    |-- id: string (nullable = true)\n",
      " |    |    |    |    |-- name: string (nullable = true)\n",
      " |    |    |    |-- id: string (nullable = true)\n",
      " |    |    |    |-- latitude: string (nullable = true)\n",
      " |    |    |    |-- longitude: string (nullable = true)\n",
      " |    |    |    |-- state: struct (nullable = true)\n",
      " |    |    |    |    |-- id: string (nullable = true)\n",
      " |    |    |    |    |-- name: string (nullable = true)\n",
      " |    |    |    |-- zip_code: string (nullable = true)\n",
      " |    |    |-- shipping: struct (nullable = true)\n",
      " |    |    |    |-- free_shipping: boolean (nullable = true)\n",
      " |    |    |    |-- logistic_type: string (nullable = true)\n",
      " |    |    |    |-- mode: string (nullable = true)\n",
      " |    |    |    |-- store_pick_up: boolean (nullable = true)\n",
      " |    |    |    |-- tags: array (nullable = true)\n",
      " |    |    |    |    |-- element: string (containsNull = true)\n",
      " |    |    |-- site_id: string (nullable = true)\n",
      " |    |    |-- sold_quantity: long (nullable = true)\n",
      " |    |    |-- stop_time: string (nullable = true)\n",
      " |    |    |-- tags: array (nullable = true)\n",
      " |    |    |    |-- element: string (containsNull = true)\n",
      " |    |    |-- thumbnail: string (nullable = true)\n",
      " |    |    |-- title: string (nullable = true)\n",
      " |-- secondary_results: array (nullable = true)\n",
      " |    |-- element: string (containsNull = true)\n",
      " |-- site_id: string (nullable = true)\n",
      " |-- sort: struct (nullable = true)\n",
      " |    |-- id: string (nullable = true)\n",
      " |    |-- name: string (nullable = true)\n",
      "\n"
     ]
    }
   ],
   "source": [
    "# Read JSON file into dataframe\n",
    "df = spark.read.json(\"./input_ejemplos/MPE1004.json\")\n",
    "df.printSchema()\n",
    "#df.show()"
   ]
  },
  {
   "cell_type": "code",
   "execution_count": 48,
   "metadata": {},
   "outputs": [
    {
     "name": "stdout",
     "output_type": "stream",
     "text": [
      "+--------------------+--------------------+--------------------+\n",
      "|                  id|       sold_quantity|  available_quantity|\n",
      "+--------------------+--------------------+--------------------+\n",
      "|[MPE433108265, MP...|[6, 6, 3, 15, 15,...|[9, 3, 17, 18, 1,...|\n",
      "+--------------------+--------------------+--------------------+\n",
      "\n"
     ]
    }
   ],
   "source": [
    "df_select = df.select(\"results.id\", \"results.sold_quantity\", 'results.available_quantity')\n",
    "df_select.show()"
   ]
  },
  {
   "cell_type": "code",
   "execution_count": 49,
   "metadata": {},
   "outputs": [
    {
     "name": "stdout",
     "output_type": "stream",
     "text": [
      "+------------+-------------+------------------+-----+\n",
      "|          id|sold_quantity|available_quantity|rowId|\n",
      "+------------+-------------+------------------+-----+\n",
      "|MPE433108265|            6|                 9|    1|\n",
      "|MPE434382765|            6|                 3|    2|\n",
      "|MPE433853177|            3|                17|    3|\n",
      "|MPE419883282|           15|                18|    4|\n",
      "|MPE431714651|           15|                 1|    5|\n",
      "|MPE438492919|            0|               100|    6|\n",
      "|MPE429448587|            0|                50|    7|\n",
      "|MPE439307195|            0|                 3|    8|\n",
      "|MPE439307251|            0|                 3|    9|\n",
      "|MPE437503507|            0|                10|   10|\n",
      "|MPE438828260|            0|                 3|   11|\n",
      "|MPE439307426|            0|                 3|   12|\n",
      "|MPE440306037|            0|                 1|   13|\n",
      "|MPE439307206|            0|                 3|   14|\n",
      "|MPE431446248|            2|                23|   15|\n",
      "|MPE439307250|            0|                 3|   16|\n",
      "|MPE439510012|            0|                 1|   17|\n",
      "|MPE439307317|            0|                 3|   18|\n",
      "|MPE439307286|            0|                 3|   19|\n",
      "|MPE439307385|            0|                 3|   20|\n",
      "+------------+-------------+------------------+-----+\n",
      "only showing top 20 rows\n",
      "\n"
     ]
    }
   ],
   "source": [
    "from pyspark.sql.functions import arrays_zip, col, explode, monotonically_increasing_id\n",
    "\n",
    "df_ = (df_select    \n",
    "    .withColumn(\"tmp\", arrays_zip(\"id\", \"sold_quantity\", 'available_quantity'))\n",
    "    .withColumn(\"tmp\", explode(\"tmp\"))\n",
    "    .select(col(\"tmp.id\"), col(\"tmp.sold_quantity\"), col(\"tmp.available_quantity\"))).withColumn(\"rowId\", monotonically_increasing_id()+1)\n",
    "df_.show()"
   ]
  },
  {
   "cell_type": "code",
   "execution_count": 50,
   "metadata": {},
   "outputs": [
    {
     "name": "stdout",
     "output_type": "stream",
     "text": [
      "+-----+------------+------------+-----------------+\n",
      "|rowId|      itemId|soldQuantity|availableQuantity|\n",
      "+-----+------------+------------+-----------------+\n",
      "|    1|MPE433108265|           6|                9|\n",
      "|    2|MPE434382765|           6|                3|\n",
      "|    3|MPE433853177|           3|               17|\n",
      "|    4|MPE419883282|          15|               18|\n",
      "|    5|MPE431714651|          15|                1|\n",
      "|    6|MPE438492919|           0|              100|\n",
      "|    7|MPE429448587|           0|               50|\n",
      "|    8|MPE439307195|           0|                3|\n",
      "|    9|MPE439307251|           0|                3|\n",
      "|   10|MPE437503507|           0|               10|\n",
      "|   11|MPE438828260|           0|                3|\n",
      "|   12|MPE439307426|           0|                3|\n",
      "|   13|MPE440306037|           0|                1|\n",
      "|   14|MPE439307206|           0|                3|\n",
      "|   15|MPE431446248|           2|               23|\n",
      "|   16|MPE439307250|           0|                3|\n",
      "|   17|MPE439510012|           0|                1|\n",
      "|   18|MPE439307317|           0|                3|\n",
      "|   19|MPE439307286|           0|                3|\n",
      "|   20|MPE439307385|           0|                3|\n",
      "|   21|MPE440131689|           0|                7|\n",
      "|   22|MPE432990777|           1|                5|\n",
      "|   23|MPE440389411|           1|                9|\n",
      "|   24|MPE421767433|           4|               11|\n",
      "|   25|MPE432990779|           0|                1|\n",
      "|   26|MPE432439269|           2|                1|\n",
      "|   27|MPE431410374|           0|                1|\n",
      "|   28|MPE430002527|           1|                1|\n",
      "|   29|MPE432990781|           0|                1|\n",
      "|   30|MPE432202936|           0|               10|\n",
      "|   31|MPE428549066|           0|                5|\n",
      "|   32|MPE428549082|           1|                4|\n",
      "|   33|MPE433933924|           1|                1|\n",
      "|   34|MPE432291284|           2|                1|\n",
      "|   35|MPE432728801|           1|                1|\n",
      "|   36|MPE433252062|           2|                1|\n",
      "|   37|MPE436649728|           0|              100|\n",
      "|   38|MPE427140390|          10|                2|\n",
      "|   39|MPE433046443|           0|              999|\n",
      "+-----+------------+------------+-----------------+\n",
      "\n"
     ]
    }
   ],
   "source": [
    "df_4 = df_ \\\n",
    "            .withColumnRenamed(\"id\",\"itemId\") \\\n",
    "            .withColumnRenamed(\"sold_quantity\",\"soldQuantity\") \\\n",
    "            .withColumnRenamed(\"available_quantity\",\"availableQuantity\")\n",
    "df_4.select('rowId', 'itemId', 'soldQuantity', 'availableQuantity').show(39)"
   ]
  },
  {
   "cell_type": "markdown",
   "metadata": {},
   "source": [
    "# Desafio 5\n",
    "# =========\n",
    "\n",
    "* Agregar las visitas al DataFrame con datos de ventas"
   ]
  },
  {
   "cell_type": "code",
   "execution_count": 51,
   "metadata": {},
   "outputs": [
    {
     "name": "stdout",
     "output_type": "stream",
     "text": [
      "root\n",
      " |-- itemId: string (nullable = true)\n",
      " |-- visits: string (nullable = true)\n",
      "\n"
     ]
    }
   ],
   "source": [
    "df_visit = spark.read.options(header='True', inferSchena='True').csv(\"./input_ejemplos/visits.csv\")\n",
    " \n",
    "df_visit.printSchema()"
   ]
  },
  {
   "cell_type": "code",
   "execution_count": 52,
   "metadata": {},
   "outputs": [
    {
     "data": {
      "text/plain": [
       "39"
      ]
     },
     "execution_count": 52,
     "metadata": {},
     "output_type": "execute_result"
    }
   ],
   "source": [
    "df_visit.count()"
   ]
  },
  {
   "cell_type": "code",
   "execution_count": 53,
   "metadata": {},
   "outputs": [
    {
     "data": {
      "text/plain": [
       "39"
      ]
     },
     "execution_count": 53,
     "metadata": {},
     "output_type": "execute_result"
    }
   ],
   "source": [
    "df_4.count()"
   ]
  },
  {
   "cell_type": "code",
   "execution_count": 54,
   "metadata": {},
   "outputs": [
    {
     "name": "stdout",
     "output_type": "stream",
     "text": [
      "+------------+------------+------+\n",
      "|      itemId|soldQuantity|visits|\n",
      "+------------+------------+------+\n",
      "|MPE433108265|           6|   203|\n",
      "|MPE434382765|           6|   170|\n",
      "|MPE433853177|           3|  1034|\n",
      "|MPE419883282|          15|  1772|\n",
      "|MPE431714651|          15|    33|\n",
      "|MPE431446248|           2|  2242|\n",
      "|MPE432990777|           1|   426|\n",
      "|MPE440389411|           1|   158|\n",
      "|MPE421767433|           4|   746|\n",
      "|MPE432439269|           2|    42|\n",
      "|MPE430002527|           1|    60|\n",
      "|MPE428549082|           1|   352|\n",
      "|MPE433933924|           1|    49|\n",
      "|MPE432291284|           2|     6|\n",
      "|MPE432728801|           1|    68|\n",
      "|MPE433252062|           2|    92|\n",
      "|MPE427140390|          10|    81|\n",
      "+------------+------------+------+\n",
      "\n"
     ]
    }
   ],
   "source": [
    "df_5 = df_4.select('itemId', 'soldQuantity').join(df_visit, on='itemId',how='left') # Could also use 'left_outer'\n",
    "df_5 = df_5.filter(df_5.soldQuantity > 0)\n",
    "df_5.show()"
   ]
  },
  {
   "cell_type": "markdown",
   "metadata": {},
   "source": [
    "# Desafio 6\n",
    "# =========\n",
    "\n",
    "* Agregar métricas a un DataFrame."
   ]
  },
  {
   "cell_type": "code",
   "execution_count": 55,
   "metadata": {},
   "outputs": [
    {
     "name": "stdout",
     "output_type": "stream",
     "text": [
      "+------------+------------+------+--------------------+\n",
      "|      itemId|soldQuantity|visits|      conversionRate|\n",
      "+------------+------------+------+--------------------+\n",
      "|MPE433108265|           6|   203|0.029556650246305417|\n",
      "|MPE434382765|           6|   170| 0.03529411764705882|\n",
      "|MPE433853177|           3|  1034|0.002901353965183...|\n",
      "|MPE419883282|          15|  1772|0.008465011286681716|\n",
      "|MPE431714651|          15|    33| 0.45454545454545453|\n",
      "|MPE431446248|           2|  2242|8.920606601248885E-4|\n",
      "|MPE432990777|           1|   426|0.002347417840375587|\n",
      "|MPE440389411|           1|   158|0.006329113924050633|\n",
      "|MPE421767433|           4|   746|0.005361930294906166|\n",
      "|MPE432439269|           2|    42|0.047619047619047616|\n",
      "|MPE430002527|           1|    60|0.016666666666666666|\n",
      "|MPE428549082|           1|   352|0.002840909090909091|\n",
      "|MPE433933924|           1|    49| 0.02040816326530612|\n",
      "|MPE432291284|           2|     6|  0.3333333333333333|\n",
      "|MPE432728801|           1|    68|0.014705882352941176|\n",
      "|MPE433252062|           2|    92|0.021739130434782608|\n",
      "|MPE427140390|          10|    81| 0.12345679012345678|\n",
      "+------------+------------+------+--------------------+\n",
      "\n"
     ]
    }
   ],
   "source": [
    "df_venta_visita = df_5.withColumn(\"conversionRate\", df_5.soldQuantity/df_5.visits)\n",
    "df_venta_visita.show()"
   ]
  },
  {
   "cell_type": "code",
   "execution_count": 56,
   "metadata": {},
   "outputs": [
    {
     "name": "stdout",
     "output_type": "stream",
     "text": [
      "+------------+------------+------+--------------+-----------------+\n",
      "|      itemId|soldQuantity|visits|conversionRate|conversionRanking|\n",
      "+------------+------------+------+--------------+-----------------+\n",
      "|MPE431714651|          15|    33|        0.4545|                1|\n",
      "|MPE432291284|           2|     6|        0.3333|                2|\n",
      "|MPE427140390|          10|    81|        0.1235|                3|\n",
      "|MPE432439269|           2|    42|        0.0476|                4|\n",
      "|MPE434382765|           6|   170|        0.0353|                5|\n",
      "|MPE433108265|           6|   203|        0.0296|                6|\n",
      "|MPE433252062|           2|    92|        0.0217|                7|\n",
      "|MPE433933924|           1|    49|        0.0204|                8|\n",
      "|MPE430002527|           1|    60|        0.0167|                9|\n",
      "|MPE432728801|           1|    68|        0.0147|               10|\n",
      "|MPE419883282|          15|  1772|        0.0085|               11|\n",
      "|MPE440389411|           1|   158|        0.0063|               12|\n",
      "|MPE421767433|           4|   746|        0.0054|               13|\n",
      "|MPE433853177|           3|  1034|        0.0029|               14|\n",
      "|MPE428549082|           1|   352|        0.0028|               15|\n",
      "|MPE432990777|           1|   426|        0.0023|               16|\n",
      "|MPE431446248|           2|  2242|        9.0E-4|               17|\n",
      "+------------+------------+------+--------------+-----------------+\n",
      "\n"
     ]
    },
    {
     "name": "stderr",
     "output_type": "stream",
     "text": [
      "22/01/24 21:42:47 WARN WindowExec: No Partition Defined for Window operation! Moving all data to a single partition, this can cause serious performance degradation.\n",
      "22/01/24 21:42:47 WARN WindowExec: No Partition Defined for Window operation! Moving all data to a single partition, this can cause serious performance degradation.\n",
      "22/01/24 21:42:47 WARN WindowExec: No Partition Defined for Window operation! Moving all data to a single partition, this can cause serious performance degradation.\n"
     ]
    }
   ],
   "source": [
    "from pyspark.sql import Window\n",
    "import pyspark.sql.functions as psf\n",
    "\n",
    "conver_r = Window.orderBy(psf.desc('conversionRate'))\n",
    "df_6 = df_venta_visita.withColumn(\n",
    "    \"conversionRanking\", \n",
    "    psf.dense_rank().over(conver_r)\n",
    ").withColumn(\n",
    "    \"conversionRate\", \n",
    "    psf.round(col('conversionRate'),4)\n",
    ")\n",
    "df_6.show()"
   ]
  },
  {
   "cell_type": "markdown",
   "metadata": {},
   "source": [
    "# Desafio 7\n",
    "# =========\n",
    "\n",
    "* Porcentaje de Stock"
   ]
  },
  {
   "cell_type": "code",
   "execution_count": 58,
   "metadata": {},
   "outputs": [
    {
     "name": "stdout",
     "output_type": "stream",
     "text": [
      "+------------+-----------------+---------------+\n",
      "|      itemId|availableQuantity|stockPercentage|\n",
      "+------------+-----------------+---------------+\n",
      "|MPE433046443|              999|           70.3|\n",
      "|MPE438492919|              100|           7.04|\n",
      "|MPE436649728|              100|           7.04|\n",
      "|MPE429448587|               50|           3.52|\n",
      "|MPE431446248|               23|           1.62|\n",
      "|MPE419883282|               18|           1.27|\n",
      "|MPE433853177|               17|            1.2|\n",
      "|MPE421767433|               11|           0.77|\n",
      "|MPE432202936|               10|            0.7|\n",
      "|MPE437503507|               10|            0.7|\n",
      "|MPE440389411|                9|           0.63|\n",
      "|MPE433108265|                9|           0.63|\n",
      "|MPE440131689|                7|           0.49|\n",
      "|MPE428549066|                5|           0.35|\n",
      "|MPE432990777|                5|           0.35|\n",
      "|MPE428549082|                4|           0.28|\n",
      "|MPE438828260|                3|           0.21|\n",
      "|MPE439307317|                3|           0.21|\n",
      "|MPE439307426|                3|           0.21|\n",
      "|MPE439307206|                3|           0.21|\n",
      "|MPE439307286|                3|           0.21|\n",
      "|MPE434382765|                3|           0.21|\n",
      "|MPE439307251|                3|           0.21|\n",
      "|MPE439307250|                3|           0.21|\n",
      "|MPE439307385|                3|           0.21|\n",
      "|MPE439307195|                3|           0.21|\n",
      "|MPE427140390|                2|           0.14|\n",
      "|MPE431714651|                1|           0.07|\n",
      "|MPE432439269|                1|           0.07|\n",
      "|MPE440306037|                1|           0.07|\n",
      "|MPE431410374|                1|           0.07|\n",
      "|MPE439510012|                1|           0.07|\n",
      "|MPE430002527|                1|           0.07|\n",
      "|MPE433933924|                1|           0.07|\n",
      "|MPE432990779|                1|           0.07|\n",
      "|MPE432990781|                1|           0.07|\n",
      "|MPE432291284|                1|           0.07|\n",
      "|MPE432728801|                1|           0.07|\n",
      "|MPE433252062|                1|           0.07|\n",
      "+------------+-----------------+---------------+\n",
      "\n"
     ]
    },
    {
     "name": "stderr",
     "output_type": "stream",
     "text": [
      "22/01/24 21:44:04 WARN WindowExec: No Partition Defined for Window operation! Moving all data to a single partition, this can cause serious performance degradation.\n",
      "22/01/24 21:44:04 WARN WindowExec: No Partition Defined for Window operation! Moving all data to a single partition, this can cause serious performance degradation.\n",
      "22/01/24 21:44:04 WARN WindowExec: No Partition Defined for Window operation! Moving all data to a single partition, this can cause serious performance degradation.\n"
     ]
    }
   ],
   "source": [
    "import pyspark.sql.functions as f\n",
    "from pyspark.sql.window import Window\n",
    "\n",
    "df_7 = df_4.withColumn('stockPercentage', f.col('availableQuantity')/f.sum('availableQuantity').over(Window.partitionBy()))\n",
    "df_7.withColumn(\n",
    "    \"stockPercentage\", \n",
    "    f.round(col('stockPercentage')*100,2)\n",
    ").orderBy('stockPercentage', ascending=False).select('itemId', 'availableQuantity', 'stockPercentage').show(39)"
   ]
  }
 ],
 "metadata": {
  "interpreter": {
   "hash": "94f1fa88e1690a457694891f9a6c3d91e8b9a911913ff0b402f7f1506fba3fd0"
  },
  "kernelspec": {
   "display_name": "Python 3.8.12 64-bit ('spark_ml': conda)",
   "language": "python",
   "name": "python3"
  },
  "language_info": {
   "codemirror_mode": {
    "name": "ipython",
    "version": 3
   },
   "file_extension": ".py",
   "mimetype": "text/x-python",
   "name": "python",
   "nbconvert_exporter": "python",
   "pygments_lexer": "ipython3",
   "version": "3.8.12"
  },
  "orig_nbformat": 4
 },
 "nbformat": 4,
 "nbformat_minor": 2
}
